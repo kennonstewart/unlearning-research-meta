{
 "cells": [
  {
   "cell_type": "markdown",
   "id": "1932149d",
   "metadata": {},
   "source": [
    "## Execution Scripts\n",
    "\n",
    "These are the cells that generate the experiment results, kept separately from the rest of the code so as to not re-run experiments.\n",
    "\n",
    "### Experiment A"
   ]
  },
  {
   "cell_type": "code",
   "execution_count": null,
   "id": "a117e036",
   "metadata": {
    "vscode": {
     "languageId": "plaintext"
    }
   },
   "outputs": [],
   "source": [
    "import os, json\n",
    "import yaml\n",
    "\n",
    "GRID_FILE = \"grids.yaml\"\n",
    "BASE_OUT = \"results/grid_2025_08_15\"   # date-stamp it\n",
    "OUTPUT_GRANULARITY = \"event\"           # Experiment A wants per-event for the money plot\n",
    "SEEDS = list(range(5))                 # match your CLI default\n",
    "\n",
    "# Load grid config from YAML\n",
    "with open(GRID_FILE, \"r\") as f:\n",
    "    grid_config = yaml.safe_load(f)\n",
    "\n",
    "\n",
    "combos = generate_combinations(grid_config)\n",
    "\n",
    "# select 60 combinations randomly \n",
    "cases = random.sample(combos, 10)\n",
    "\n",
    "print(f\"{len(combos)} grid cells\")\n",
    "print(f\"sampled {len(cases)} cells to run\")\n",
    "\n",
    "# (Optional) dry-run preview\n",
    "for i, p in enumerate(cases[:5]):\n",
    "    print(f\"{i+1:2d}. {create_grid_id(p)} → {p}\")\n",
    "\n",
    "# Make output dirs\n",
    "os.makedirs(os.path.join(BASE_OUT, \"sweep\"), exist_ok=True)\n",
    "\n",
    "# Run the sweep using ExperimentRunner\n",
    "all_csv = []\n",
    "for i, params in enumerate(cases):\n",
    "    print(f\"\\n=== Running cell {i+1}/{len(combos)}: {create_grid_id(params)} ===\")\n",
    "    csvs = run_parameter_combination(\n",
    "        params=params,\n",
    "        seeds=SEEDS,\n",
    "        base_out_dir=BASE_OUT,\n",
    "        output_granularity=OUTPUT_GRANULARITY,\n",
    "        parallel=1,           # bump if your runner supports safe parallelism in-notebook\n",
    "    )\n",
    "    all_csv.extend(csvs)\n",
    "\n",
    "# Persist a manifest like the CLI does (handy for analysis notebooks)\n",
    "manifest = { create_grid_id(p): p for p in combos }\n",
    "with open(os.path.join(BASE_OUT, \"sweep\", \"manifest.json\"), \"w\") as f:\n",
    "    json.dump(manifest, f, indent=2)\n",
    "\n",
    "print(\"\\nDone. CSVs:\", len(all_csv))\n"
   ]
  }
 ],
 "metadata": {
  "language_info": {
   "name": "python"
  }
 },
 "nbformat": 4,
 "nbformat_minor": 5
}
