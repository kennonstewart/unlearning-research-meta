{
 "cells": [
  {
   "cell_type": "markdown",
   "id": "70ee635c",
   "metadata": {},
   "source": [
    "# Experiment A: Bound Adherence Under Nonstationary Conditions\n",
    "*Question: does empirical average regret stay within the $\\gamma$-regret bounds?*\n",
    "\n",
    "### Experiment Design\n",
    "Grid search over the streams (stationary, slow, abrupt, periodic), lambda levels, and two deletion ratio regimes.\n",
    "\n",
    "Use a static comparator and calibrated learning rate schedule.\n",
    "Set gamma per-theory at calibration and fix the total horizon (ie. $T=50000$).\n",
    "\n",
    "### Primary Analysis\n",
    "For each of the experimental cells, evaluate the final $R_{T}/T$ to see whether the guarantee was met.\n",
    "Multiple seeds per cell in order to make some kind of causal analysis on the results.\n",
    "\n",
    "### Success Criteria\n",
    "95% of the cells meet their guarantees then I would call that a success. Which cells experience more successes than others? Can I make a heatmap that shows the regret results per cell?"
   ]
  },
  {
   "cell_type": "markdown",
   "id": "b39829cf",
   "metadata": {},
   "source": [
    "## Import Statements and Versioning\n",
    "\n",
    "This uses pretty standard library imports, but the torch requirement can stress the memory limits of a host."
   ]
  },
  {
   "cell_type": "code",
   "execution_count": 1,
   "id": "75752267",
   "metadata": {},
   "outputs": [],
   "source": [
    "# set global seed\n",
    "import random\n",
    "import matplotlib.pyplot as plt\n",
    "import numpy as np\n",
    "import pandas as pd\n",
    "import torch\n",
    "\n",
    "def set_seed(seed):\n",
    "    \"\"\"\n",
    "    Set the random seed for reproducibility.\n",
    "    \n",
    "    Args:\n",
    "        seed (int): The seed value to set for random number generation.\n",
    "    \"\"\"\n",
    "    random.seed(seed)\n",
    "    np.random.seed(seed)\n",
    "    torch.manual_seed(seed)\n",
    "    if torch.cuda.is_available():\n",
    "        torch.cuda.manual_seed_all(seed)\n",
    "    torch.backends.cudnn.deterministic = True\n",
    "    torch.backends.cudnn.benchmark = False\n"
   ]
  },
  {
   "cell_type": "markdown",
   "id": "8e82eb8f",
   "metadata": {},
   "source": [
    "# Config and Target"
   ]
  },
  {
   "cell_type": "code",
   "execution_count": 2,
   "id": "6adc2ff2",
   "metadata": {},
   "outputs": [],
   "source": [
    "RUN_ID = \"experiment_a_test\"\n",
    "REGIME = \"stationary\"\n",
    "REPLICATE = 1\n",
    "T = 1000\n",
    "SEED = 42\n",
    "LOSS_NAME = \"logistic\"\n",
    "MODEL_NAME = \"memorypair\"\n",
    "LBFGS_MEM = 10"
   ]
  },
  {
   "cell_type": "markdown",
   "id": "8b7d0d1b",
   "metadata": {},
   "source": [
    "# Setup and Imports"
   ]
  },
  {
   "cell_type": "code",
   "execution_count": 3,
   "id": "calibration_setup",
   "metadata": {},
   "outputs": [],
   "source": [
    "# Import required modules\n",
    "import sys\n",
    "import os\n",
    "\n",
    "# Add code path for imports\n",
    "os.chdir(os.path.dirname(os.getcwd()))\n",
    "\n",
    "from config import Config\n",
    "from runner import ExperimentRunner\n",
    "\n",
    "from agents.grid_runner import load_grid, generate_combinations, create_grid_id, run_parameter_combination\n"
   ]
  },
  {
   "cell_type": "markdown",
   "id": "0288f647",
   "metadata": {},
   "source": [
    "## Reading and Transforming the Data \n",
    "\n",
    "The data is now in a series of files in the results folder. This section will read in those datapoints and output a fully formatted dataframe of a random sample of the datapoints.\n",
    "\n",
    "Analysis can be performed in batches."
   ]
  },
  {
   "cell_type": "code",
   "execution_count": 27,
   "id": "60fc7042",
   "metadata": {},
   "outputs": [
    {
     "name": "stdout",
     "output_type": "stream",
     "text": [
      "Number of directories in 'results/grid_2025_08_15/': 15\n",
      "['results/grid_2025_08_15/sweep', 'results/grid_2025_08_15/sweep/gamma_1.0-split_0.5_q0.95_k10_default_eps1.0_cmpdynamic_orcoff_prot_ang0.01_dr0.001_fs1_h3ebe6677', 'results/grid_2025_08_15/sweep/gamma_1.0-split_0.5_q0.95_k10_default_eps1.0_cmpdynamic_orcoff_prot_ang0.01_dr0.001_fs1_h303e9151', 'results/grid_2025_08_15/sweep/gamma_1.0-split_0.5_q0.95_k10_default_eps1.0_cmpdynamic_orcoff_prot_ang0.01_dr0.001_fs1_h6cf5bec1', 'results/grid_2025_08_15/sweep/gamma_1.0-split_0.5_q0.95_k10_default_eps1.0_cmpdynamic_orcoff_prot_ang0.01_dr0.001_fs1_h881e0dba', 'results/grid_2025_08_15/sweep/gamma_1.0-split_0.5_q0.95_k10_default_eps1.0_cmpdynamic_orcoff_prot_ang0.01_dr0.001_fs1_h6a12174f', 'results/grid_2025_08_15/sweep/gamma_1.0-split_0.5_q0.95_k10_default_eps1.0_cmpdynamic_orcoff_prot_ang0.01_dr0.001_fs1_h76136a72', 'results/grid_2025_08_15/sweep/gamma_1.0-split_0.5_q0.95_k10_default_eps1.0_cmpdynamic_orcoff_prot_ang0.01_dr0.001_fs1_h11625dba', 'results/grid_2025_08_15/sweep/gamma_1.0-split_0.5_q0.95_k10_default_eps1.0_cmpdynamic_orcoff_prot_ang0.01_dr0.001_fs1_h5d43ac50', 'results/grid_2025_08_15/sweep/gamma_1.0-split_0.5_q0.95_k10_default_eps1.0_cmpdynamic_orcoff_prot_ang0.01_dr0.001_fs1_h18c0b99c', 'results/grid_2025_08_15/sweep/gamma_1.0-split_0.5_q0.95_k10_default_eps1.0_cmpdynamic_orcoff_prot_ang0.01_dr0.001_fs1_h8b379537', 'results/grid_2025_08_15/sweep/gamma_1.0-split_0.5_q0.95_k10_default_eps1.0_cmpdynamic_orcoff_prot_ang0.01_dr0.001_fs1_hb02274d9', 'results/grid_2025_08_15/sweep/gamma_1.0-split_0.5_q0.95_k10_default_eps1.0_cmpdynamic_orcoff_prot_ang0.01_dr0.001_fs1_h5ccc6a83', 'results/grid_2025_08_15/sweep/gamma_1.0-split_0.5_q0.95_k10_default_eps1.0_cmpdynamic_orcoff_prot_ang0.01_dr0.001_fs1_h1f62b5d9', 'results/grid_2025_08_15/sweep/gamma_1.0-split_0.5_q0.95_k10_default_eps1.0_cmpdynamic_orcoff_prot_ang0.01_dr0.001_fs1_hafba7de0']\n"
     ]
    }
   ],
   "source": [
    "# print a count of all directories in the results directory\n",
    "dir_list = []\n",
    "results_dir = \"results/grid_2025_08_15/\"\n",
    "for r, d, files in os.walk(results_dir):\n",
    "    for dirname in d:\n",
    "        dir_list.append(os.path.join(r, dirname))\n",
    "print(f\"Number of directories in '{results_dir}': {len(dir_list)}\")\n",
    "print(dir_list)"
   ]
  },
  {
   "cell_type": "code",
   "execution_count": null,
   "id": "2061a78c",
   "metadata": {},
   "outputs": [
    {
     "name": "stdout",
     "output_type": "stream",
     "text": [
      "['results/grid_2025_08_15/sweep', 'results/grid_2025_08_15/sweep/gamma_1.0-split_0.5_q0.95_k10_default_eps1.0_cmpdynamic_orcoff_prot_ang0.01_dr0.001_fs1_h3ebe6677', 'results/grid_2025_08_15/sweep/gamma_1.0-split_0.5_q0.95_k10_default_eps1.0_cmpdynamic_orcoff_prot_ang0.01_dr0.001_fs1_h303e9151', 'results/grid_2025_08_15/sweep/gamma_1.0-split_0.5_q0.95_k10_default_eps1.0_cmpdynamic_orcoff_prot_ang0.01_dr0.001_fs1_h6cf5bec1', 'results/grid_2025_08_15/sweep/gamma_1.0-split_0.5_q0.95_k10_default_eps1.0_cmpdynamic_orcoff_prot_ang0.01_dr0.001_fs1_h881e0dba', 'results/grid_2025_08_15/sweep/gamma_1.0-split_0.5_q0.95_k10_default_eps1.0_cmpdynamic_orcoff_prot_ang0.01_dr0.001_fs1_h6a12174f', 'results/grid_2025_08_15/sweep/gamma_1.0-split_0.5_q0.95_k10_default_eps1.0_cmpdynamic_orcoff_prot_ang0.01_dr0.001_fs1_h76136a72', 'results/grid_2025_08_15/sweep/gamma_1.0-split_0.5_q0.95_k10_default_eps1.0_cmpdynamic_orcoff_prot_ang0.01_dr0.001_fs1_h11625dba', 'results/grid_2025_08_15/sweep/gamma_1.0-split_0.5_q0.95_k10_default_eps1.0_cmpdynamic_orcoff_prot_ang0.01_dr0.001_fs1_h5d43ac50', 'results/grid_2025_08_15/sweep/gamma_1.0-split_0.5_q0.95_k10_default_eps1.0_cmpdynamic_orcoff_prot_ang0.01_dr0.001_fs1_h18c0b99c', 'results/grid_2025_08_15/sweep/gamma_1.0-split_0.5_q0.95_k10_default_eps1.0_cmpdynamic_orcoff_prot_ang0.01_dr0.001_fs1_h8b379537', 'results/grid_2025_08_15/sweep/gamma_1.0-split_0.5_q0.95_k10_default_eps1.0_cmpdynamic_orcoff_prot_ang0.01_dr0.001_fs1_hb02274d9', 'results/grid_2025_08_15/sweep/gamma_1.0-split_0.5_q0.95_k10_default_eps1.0_cmpdynamic_orcoff_prot_ang0.01_dr0.001_fs1_h5ccc6a83', 'results/grid_2025_08_15/sweep/gamma_1.0-split_0.5_q0.95_k10_default_eps1.0_cmpdynamic_orcoff_prot_ang0.01_dr0.001_fs1_h1f62b5d9', 'results/grid_2025_08_15/sweep/gamma_1.0-split_0.5_q0.95_k10_default_eps1.0_cmpdynamic_orcoff_prot_ang0.01_dr0.001_fs1_hafba7de0']\n"
     ]
    }
   ],
   "source": [
    "# go up a single level in the current directory\n",
    "sys.path.append(os.path.dirname(os.getcwd()))\n",
    "\n",
    "data = []\n",
    "for d in dir_list:\n",
    "    # ingest all event csv files\n",
    "    for f in os.listdir(d):\n",
    "        if f.endswith('events.csv'):\n",
    "            df = pd.read_csv(os.path.join(d, f))\n",
    "            data.append(df)\n",
    "\n",
    "# concatenate all event dataframes\n",
    "if data:\n",
    "    data = pd.concat(data, ignore_index=True)\n",
    "else:\n",
    "    data = pd.DataFrame()\n"
   ]
  },
  {
   "cell_type": "code",
   "execution_count": 30,
   "id": "e35c06d0",
   "metadata": {},
   "outputs": [
    {
     "data": {
      "text/plain": [
       "Index(['C_hat', 'D_hat', 'G_hat', 'N_gamma', 'N_star_theory', 'P_T', 'P_T_est',\n",
       "       'S_scalar', 'acc', 'accountant', 'avg_regret', 'avg_regret_with_noise',\n",
       "       'base_eta_t', 'c_hat', 'comparator_type', 'cum_regret',\n",
       "       'cum_regret_with_noise', 'd_norm', 'delta_step_theory', 'delta_total',\n",
       "       'drift_boost_remaining', 'drift_flag', 'eps_remaining', 'eps_spent',\n",
       "       'eps_step_theory', 'eta_t', 'event', 'event_id', 'event_type',\n",
       "       'lambda_est', 'lambda_raw', 'm_capacity', 'm_used', 'noise_regret_cum',\n",
       "       'noise_regret_increment', 'op', 'pair_admitted', 'pair_damped',\n",
       "       'path_regret_increment', 'regret', 'regret_dynamic', 'regret_increment',\n",
       "       'regret_path_term', 'regret_static_term', 'rho_remaining', 'rho_spent',\n",
       "       'rho_step', 'sample_id', 'sc_active', 'sc_stable', 'segment_id',\n",
       "       'sens_delete', 'sigma_step', 'sigma_step_theory',\n",
       "       'static_regret_increment', 'x_norm', 'seed', 'grid_id', 'gamma_bar',\n",
       "       'gamma_split', 'N_star_live', 'm_theory_live', 'blocked_reason',\n",
       "       'path_type', 'rotate_angle', 'drift_rate', 'feature_scale', 'w_scale',\n",
       "       'fix_w_norm', 'noise_std'],\n",
       "      dtype='object')"
      ]
     },
     "execution_count": 30,
     "metadata": {},
     "output_type": "execute_result"
    }
   ],
   "source": [
    "data.columns"
   ]
  },
  {
   "cell_type": "code",
   "execution_count": 36,
   "id": "af3e440c",
   "metadata": {},
   "outputs": [
    {
     "name": "stdout",
     "output_type": "stream",
     "text": [
      "seed\n",
      "2    139300\n",
      "0    139300\n",
      "4    139300\n",
      "3    139300\n",
      "Name: count, dtype: int64\n",
      "op\n",
      "insert       322532\n",
      "warmup       174440\n",
      "delete        32228\n",
      "calibrate     28000\n",
      "Name: count, dtype: int64\n",
      "avg_regret\n",
      "0.0    557200\n",
      "Name: count, dtype: int64\n"
     ]
    }
   ],
   "source": [
    "print(data.seed.value_counts())\n",
    "print(data.op.value_counts())\n",
    "print(data.avg_regret.value_counts())"
   ]
  },
  {
   "cell_type": "code",
   "execution_count": 29,
   "id": "2fd01a3d",
   "metadata": {},
   "outputs": [
    {
     "data": {
      "text/html": [
       "<div>\n",
       "<style scoped>\n",
       "    .dataframe tbody tr th:only-of-type {\n",
       "        vertical-align: middle;\n",
       "    }\n",
       "\n",
       "    .dataframe tbody tr th {\n",
       "        vertical-align: top;\n",
       "    }\n",
       "\n",
       "    .dataframe thead th {\n",
       "        text-align: right;\n",
       "    }\n",
       "</style>\n",
       "<table border=\"1\" class=\"dataframe\">\n",
       "  <thead>\n",
       "    <tr style=\"text-align: right;\">\n",
       "      <th></th>\n",
       "      <th>C_hat</th>\n",
       "      <th>D_hat</th>\n",
       "      <th>G_hat</th>\n",
       "      <th>N_gamma</th>\n",
       "      <th>N_star_theory</th>\n",
       "      <th>P_T</th>\n",
       "      <th>P_T_est</th>\n",
       "      <th>S_scalar</th>\n",
       "      <th>acc</th>\n",
       "      <th>accountant</th>\n",
       "      <th>...</th>\n",
       "      <th>N_star_live</th>\n",
       "      <th>m_theory_live</th>\n",
       "      <th>blocked_reason</th>\n",
       "      <th>path_type</th>\n",
       "      <th>rotate_angle</th>\n",
       "      <th>drift_rate</th>\n",
       "      <th>feature_scale</th>\n",
       "      <th>w_scale</th>\n",
       "      <th>fix_w_norm</th>\n",
       "      <th>noise_std</th>\n",
       "    </tr>\n",
       "  </thead>\n",
       "  <tbody>\n",
       "    <tr>\n",
       "      <th>0</th>\n",
       "      <td>1.0</td>\n",
       "      <td>0.455604</td>\n",
       "      <td>29.975769</td>\n",
       "      <td>NaN</td>\n",
       "      <td>NaN</td>\n",
       "      <td>0.0</td>\n",
       "      <td>0.0</td>\n",
       "      <td>8.460643</td>\n",
       "      <td>0.632220</td>\n",
       "      <td>eps_delta</td>\n",
       "      <td>...</td>\n",
       "      <td>NaN</td>\n",
       "      <td>NaN</td>\n",
       "      <td>NaN</td>\n",
       "      <td>NaN</td>\n",
       "      <td>NaN</td>\n",
       "      <td>NaN</td>\n",
       "      <td>NaN</td>\n",
       "      <td>NaN</td>\n",
       "      <td>NaN</td>\n",
       "      <td>NaN</td>\n",
       "    </tr>\n",
       "    <tr>\n",
       "      <th>1</th>\n",
       "      <td>1.0</td>\n",
       "      <td>0.455604</td>\n",
       "      <td>29.975769</td>\n",
       "      <td>NaN</td>\n",
       "      <td>NaN</td>\n",
       "      <td>0.0</td>\n",
       "      <td>0.0</td>\n",
       "      <td>239.559837</td>\n",
       "      <td>3.604286</td>\n",
       "      <td>eps_delta</td>\n",
       "      <td>...</td>\n",
       "      <td>NaN</td>\n",
       "      <td>NaN</td>\n",
       "      <td>NaN</td>\n",
       "      <td>NaN</td>\n",
       "      <td>NaN</td>\n",
       "      <td>NaN</td>\n",
       "      <td>NaN</td>\n",
       "      <td>NaN</td>\n",
       "      <td>NaN</td>\n",
       "      <td>NaN</td>\n",
       "    </tr>\n",
       "    <tr>\n",
       "      <th>2</th>\n",
       "      <td>1.0</td>\n",
       "      <td>0.455604</td>\n",
       "      <td>29.975769</td>\n",
       "      <td>NaN</td>\n",
       "      <td>NaN</td>\n",
       "      <td>0.0</td>\n",
       "      <td>0.0</td>\n",
       "      <td>1447.181477</td>\n",
       "      <td>8.371785</td>\n",
       "      <td>eps_delta</td>\n",
       "      <td>...</td>\n",
       "      <td>NaN</td>\n",
       "      <td>NaN</td>\n",
       "      <td>NaN</td>\n",
       "      <td>NaN</td>\n",
       "      <td>NaN</td>\n",
       "      <td>NaN</td>\n",
       "      <td>NaN</td>\n",
       "      <td>NaN</td>\n",
       "      <td>NaN</td>\n",
       "      <td>NaN</td>\n",
       "    </tr>\n",
       "    <tr>\n",
       "      <th>3</th>\n",
       "      <td>1.0</td>\n",
       "      <td>0.455604</td>\n",
       "      <td>29.975769</td>\n",
       "      <td>NaN</td>\n",
       "      <td>NaN</td>\n",
       "      <td>0.0</td>\n",
       "      <td>0.0</td>\n",
       "      <td>2486.203561</td>\n",
       "      <td>6.427817</td>\n",
       "      <td>eps_delta</td>\n",
       "      <td>...</td>\n",
       "      <td>NaN</td>\n",
       "      <td>NaN</td>\n",
       "      <td>NaN</td>\n",
       "      <td>NaN</td>\n",
       "      <td>NaN</td>\n",
       "      <td>NaN</td>\n",
       "      <td>NaN</td>\n",
       "      <td>NaN</td>\n",
       "      <td>NaN</td>\n",
       "      <td>NaN</td>\n",
       "    </tr>\n",
       "    <tr>\n",
       "      <th>4</th>\n",
       "      <td>1.0</td>\n",
       "      <td>0.455604</td>\n",
       "      <td>29.975769</td>\n",
       "      <td>NaN</td>\n",
       "      <td>NaN</td>\n",
       "      <td>0.0</td>\n",
       "      <td>0.0</td>\n",
       "      <td>2614.986210</td>\n",
       "      <td>2.778743</td>\n",
       "      <td>eps_delta</td>\n",
       "      <td>...</td>\n",
       "      <td>NaN</td>\n",
       "      <td>NaN</td>\n",
       "      <td>NaN</td>\n",
       "      <td>NaN</td>\n",
       "      <td>NaN</td>\n",
       "      <td>NaN</td>\n",
       "      <td>NaN</td>\n",
       "      <td>NaN</td>\n",
       "      <td>NaN</td>\n",
       "      <td>NaN</td>\n",
       "    </tr>\n",
       "  </tbody>\n",
       "</table>\n",
       "<p>5 rows × 70 columns</p>\n",
       "</div>"
      ],
      "text/plain": [
       "   C_hat     D_hat      G_hat  N_gamma  N_star_theory  P_T  P_T_est  \\\n",
       "0    1.0  0.455604  29.975769      NaN            NaN  0.0      0.0   \n",
       "1    1.0  0.455604  29.975769      NaN            NaN  0.0      0.0   \n",
       "2    1.0  0.455604  29.975769      NaN            NaN  0.0      0.0   \n",
       "3    1.0  0.455604  29.975769      NaN            NaN  0.0      0.0   \n",
       "4    1.0  0.455604  29.975769      NaN            NaN  0.0      0.0   \n",
       "\n",
       "      S_scalar       acc accountant  ...  N_star_live  m_theory_live  \\\n",
       "0     8.460643  0.632220  eps_delta  ...          NaN            NaN   \n",
       "1   239.559837  3.604286  eps_delta  ...          NaN            NaN   \n",
       "2  1447.181477  8.371785  eps_delta  ...          NaN            NaN   \n",
       "3  2486.203561  6.427817  eps_delta  ...          NaN            NaN   \n",
       "4  2614.986210  2.778743  eps_delta  ...          NaN            NaN   \n",
       "\n",
       "   blocked_reason  path_type rotate_angle  drift_rate  feature_scale  w_scale  \\\n",
       "0             NaN        NaN          NaN         NaN            NaN      NaN   \n",
       "1             NaN        NaN          NaN         NaN            NaN      NaN   \n",
       "2             NaN        NaN          NaN         NaN            NaN      NaN   \n",
       "3             NaN        NaN          NaN         NaN            NaN      NaN   \n",
       "4             NaN        NaN          NaN         NaN            NaN      NaN   \n",
       "\n",
       "   fix_w_norm  noise_std  \n",
       "0         NaN        NaN  \n",
       "1         NaN        NaN  \n",
       "2         NaN        NaN  \n",
       "3         NaN        NaN  \n",
       "4         NaN        NaN  \n",
       "\n",
       "[5 rows x 70 columns]"
      ]
     },
     "execution_count": 29,
     "metadata": {},
     "output_type": "execute_result"
    }
   ],
   "source": [
    "data.head()\n"
   ]
  }
 ],
 "metadata": {
  "kernelspec": {
   "display_name": ".venv (3.11.13)",
   "language": "python",
   "name": "python3"
  },
  "language_info": {
   "codemirror_mode": {
    "name": "ipython",
    "version": 3
   },
   "file_extension": ".py",
   "mimetype": "text/x-python",
   "name": "python",
   "nbconvert_exporter": "python",
   "pygments_lexer": "ipython3",
   "version": "3.11.13"
  }
 },
 "nbformat": 4,
 "nbformat_minor": 5
}
