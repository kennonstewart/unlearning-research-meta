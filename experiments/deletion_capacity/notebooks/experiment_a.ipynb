{
 "cells": [
  {
   "cell_type": "markdown",
   "id": "70ee635c",
   "metadata": {},
   "source": [
    "# Experiment A: Bound Adherence Under Nonstationary Conditions\n",
    "*Question: does empirical average regret stay within the $\\gamma$-regret bounds?*\n",
    "\n",
    "### Experiment Design\n",
    "Grid search over the streams (stationary, slow, abrupt, periodic), lambda levels, and two deletion ratio regimes.\n",
    "\n",
    "Use a static comparator and calibrated learning rate schedule.\n",
    "Set gamma per-theory at calibration and fix the total horizon (ie. $T=50000$).\n",
    "\n",
    "### Primary Analysis\n",
    "For each of the experimental cells, evaluate the final $R_{T}/T$ to see whether the guarantee was met.\n",
    "Multiple seeds per cell in order to make some kind of causal analysis on the results.\n",
    "\n",
    "### Success Criteria\n",
    "95% of the cells meet their guarantees then I would call that a success. Which cells experience more successes than others? Can I make a heatmap that shows the regret results per cell?"
   ]
  },
  {
   "cell_type": "markdown",
   "id": "b39829cf",
   "metadata": {},
   "source": [
    "## Import Statements and Versioning\n",
    "\n",
    "This uses pretty standard library imports, but the torch requirement can stress the memory limits of a host."
   ]
  },
  {
   "cell_type": "code",
   "execution_count": 1,
   "id": "75752267",
   "metadata": {},
   "outputs": [],
   "source": [
    "# set global seed\n",
    "import random\n",
    "import numpy as np\n",
    "import torch\n",
    "\n",
    "def set_seed(seed):\n",
    "    \"\"\"\n",
    "    Set the random seed for reproducibility.\n",
    "    \n",
    "    Args:\n",
    "        seed (int): The seed value to set for random number generation.\n",
    "    \"\"\"\n",
    "    random.seed(seed)\n",
    "    np.random.seed(seed)\n",
    "    torch.manual_seed(seed)\n",
    "    if torch.cuda.is_available():\n",
    "        torch.cuda.manual_seed_all(seed)\n",
    "    torch.backends.cudnn.deterministic = True\n",
    "    torch.backends.cudnn.benchmark = False\n"
   ]
  },
  {
   "cell_type": "markdown",
   "id": "8e82eb8f",
   "metadata": {},
   "source": [
    "# Config and Target"
   ]
  },
  {
   "cell_type": "code",
   "execution_count": 2,
   "id": "6adc2ff2",
   "metadata": {},
   "outputs": [],
   "source": [
    "RUN_ID = \"experiment_a_test\"\n",
    "REGIME = \"stationary\"\n",
    "REPLICATE = 1\n",
    "T = 1000\n",
    "SEED = 42\n",
    "LOSS_NAME = \"logistic\"\n",
    "MODEL_NAME = \"memorypair\"\n",
    "LBFGS_MEM = 10"
   ]
  },
  {
   "cell_type": "markdown",
   "id": "8b7d0d1b",
   "metadata": {},
   "source": [
    "# Setup and Imports"
   ]
  },
  {
   "cell_type": "code",
   "execution_count": 3,
   "id": "calibration_setup",
   "metadata": {},
   "outputs": [],
   "source": [
    "# Import required modules\n",
    "import sys\n",
    "import os\n",
    "\n",
    "# Add code path for imports\n",
    "os.chdir(os.path.dirname(os.getcwd()))\n",
    "\n",
    "from config import Config\n",
    "from runner import ExperimentRunner\n",
    "\n",
    "from agents.grid_runner import load_grid, generate_combinations, create_grid_id, run_parameter_combination\n"
   ]
  },
  {
   "cell_type": "markdown",
   "id": "test_fix",
   "metadata": {},
   "source": [
    "# Test the d_max Fix\n",
    "\n",
    "This section demonstrates that the d_max None value error has been fixed."
   ]
  },
  {
   "cell_type": "code",
   "execution_count": 4,
   "id": "test_d_max_fix",
   "metadata": {},
   "outputs": [
    {
     "name": "stdout",
     "output_type": "stream",
     "text": [
      "Configuration created successfully!\n",
      "d_max value: inf (should be inf, not None)\n",
      "ExperimentRunner created successfully!\n",
      "Running experiment for seed 42...\n",
      "[Bootstrap] Collecting 50 steps to estimate G, D, c, C...\n",
      "[Bootstrap] Finalizing calibration...\n",
      "[Calibrator] G_hat = 30.5823 (quantile 0.95)\n",
      "[Calibrator] D_hat = 0.1771 (clamped by D_cap = 10.0)\n",
      "[Calibrator] c_hat = 1.0000, C_hat = 1.0000\n",
      "[MemoryPair] Calibration complete. N* = 327, transitioning to LEARNING phase.\n",
      "[MemoryPair] Odometer will be finalized after warmup completes.\n",
      "[SensCalib] Collecting 50 sensitivity samples...\n",
      "[Warmup] Running 277 warmup inserts to reach N*=327...\n",
      "[MemoryPair] Reached N* = 327 inserts. Ready to predict, transitioning to INTERLEAVING phase.\n",
      "[Finalize] Finalizing odometer...\n",
      "[ZCDPOdometer] Warning: Even m=1 exceeds constraints\n",
      "[ZCDPOdometer] Required σ for m=1: 216.2493\n",
      "[ZCDPOdometer] Regret bound: 495.3428 > γ=0.7000\n",
      "[ZCDPOdometer] Joint optimization selected m=1, σ=216.2493\n",
      "[ZCDPOdometer] Final regret bound: 495.3428\n",
      "[ZCDPOdometer] Joint optimization: m = 1, σ = 216.2493\n",
      "[ZCDPOdometer] L = 30.5823, D = 0.1771\n",
      "[ZCDPOdometer] Sensitivity bound = 305.8227\n",
      "[ZCDPOdometer] Using theoretical sensitivity bound L/λ\n",
      "[Finalize] Finalizing odometer...\n",
      "[ZCDPOdometer] Warning: Even m=1 exceeds constraints\n",
      "[ZCDPOdometer] Required σ for m=1: 216.2493\n",
      "[ZCDPOdometer] Regret bound: 162.0504 > γ=0.7000\n",
      "[ZCDPOdometer] Joint optimization selected m=1, σ=216.2493\n",
      "[ZCDPOdometer] Final regret bound: 162.0504\n",
      "[ZCDPOdometer] Joint optimization: m = 1, σ = 216.2493\n",
      "[ZCDPOdometer] L = 30.5823, D = 0.1771\n",
      "[ZCDPOdometer] Sensitivity bound = 305.8227\n",
      "[ZCDPOdometer] Using theoretical sensitivity bound L/λ\n",
      "[Workload] Starting interleaving phase (up to 623 events)...\n",
      "✅ Experiment completed successfully! No d_max comparison error.\n",
      "Result type: <class 'runner.SeedResult'>\n"
     ]
    }
   ],
   "source": [
    "# Test parameters that previously caused the error\n",
    "test_params = {\n",
    "    'gamma_bar': 1.0,\n",
    "    'gamma_split': 0.3,\n",
    "    'accountant': 'zcdp',\n",
    "    'rho_total': 1.0,\n",
    "    'delta_total': 1e-05,\n",
    "    'max_events': 1000,  # Reduced for testing\n",
    "    'delete_ratio': 0.05,\n",
    "    'comparator': 'static',\n",
    "    'd_max': None,  # This was causing the error\n",
    "    'bootstrap_iters': 50,\n",
    "    'quantile': 0.95,\n",
    "    'dataset': 'synthetic',\n",
    "    'seeds': 2\n",
    "}\n",
    "\n",
    "# Create configuration\n",
    "set_seed(SEED)\n",
    "cfg = Config.from_cli_args(**test_params)\n",
    "print(f\"Configuration created successfully!\")\n",
    "print(f\"d_max value: {cfg.d_max} (should be inf, not None)\")\n",
    "\n",
    "# Create and test runner\n",
    "runner = ExperimentRunner(cfg)\n",
    "print(f\"ExperimentRunner created successfully!\")\n",
    "\n",
    "# Run one seed to verify the fix\n",
    "print(f\"Running experiment for seed {SEED}...\")\n",
    "result = runner.run_one_seed(seed=SEED)\n",
    "print(f\"✅ Experiment completed successfully! No d_max comparison error.\")\n",
    "print(f\"Result type: {type(result)}\")"
   ]
  },
  {
   "cell_type": "code",
   "execution_count": 5,
   "id": "a545107d",
   "metadata": {},
   "outputs": [
    {
     "ename": "TypeError",
     "evalue": "argument of type 'NoneType' is not iterable",
     "output_type": "error",
     "traceback": [
      "\u001b[31m---------------------------------------------------------------------------\u001b[39m",
      "\u001b[31mTypeError\u001b[39m                                 Traceback (most recent call last)",
      "\u001b[36mCell\u001b[39m\u001b[36m \u001b[39m\u001b[32mIn[5]\u001b[39m\u001b[32m, line 9\u001b[39m\n\u001b[32m      6\u001b[39m SEEDS = \u001b[38;5;28mlist\u001b[39m(\u001b[38;5;28mrange\u001b[39m(\u001b[32m5\u001b[39m))                 \u001b[38;5;66;03m# match your CLI default\u001b[39;00m\n\u001b[32m      8\u001b[39m grid = load_grid(GRID_FILE)\n\u001b[32m----> \u001b[39m\u001b[32m9\u001b[39m combos = \u001b[43mgenerate_combinations\u001b[49m\u001b[43m(\u001b[49m\u001b[43mgrid\u001b[49m\u001b[43m)\u001b[49m\n\u001b[32m     11\u001b[39m \u001b[38;5;28mprint\u001b[39m(\u001b[33mf\u001b[39m\u001b[33m\"\u001b[39m\u001b[38;5;132;01m{\u001b[39;00m\u001b[38;5;28mlen\u001b[39m(combos)\u001b[38;5;132;01m}\u001b[39;00m\u001b[33m grid cells\u001b[39m\u001b[33m\"\u001b[39m)\n\u001b[32m     12\u001b[39m \u001b[38;5;28mprint\u001b[39m(\u001b[38;5;28msorted\u001b[39m(\u001b[38;5;28mset\u001b[39m(c[\u001b[33m'\u001b[39m\u001b[33maccountant\u001b[39m\u001b[33m'\u001b[39m] \u001b[38;5;28;01mfor\u001b[39;00m c \u001b[38;5;129;01min\u001b[39;00m combos)))\n",
      "\u001b[36mFile \u001b[39m\u001b[32m/workspaces/unlearning-research-meta/experiments/deletion_capacity/agents/grid_runner.py:77\u001b[39m, in \u001b[36mgenerate_combinations\u001b[39m\u001b[34m(grid)\u001b[39m\n\u001b[32m     68\u001b[39m \u001b[38;5;250m\u001b[39m\u001b[33;03m\"\"\"Generate all parameter combinations from grid.\u001b[39;00m\n\u001b[32m     69\u001b[39m \n\u001b[32m     70\u001b[39m \u001b[33;03mSpecial handling: gamma_bar and gamma_split are paired by index, not crossed.\u001b[39;00m\n\u001b[32m   (...)\u001b[39m\u001b[32m     74\u001b[39m \u001b[33;03mIf no gamma keys, all params are fully crossed.\u001b[39;00m\n\u001b[32m     75\u001b[39m \u001b[33;03m\"\"\"\u001b[39;00m\n\u001b[32m     76\u001b[39m \u001b[38;5;66;03m# Check if both gamma keys are present\u001b[39;00m\n\u001b[32m---> \u001b[39m\u001b[32m77\u001b[39m \u001b[38;5;28;01mif\u001b[39;00m \u001b[33;43m\"\u001b[39;49m\u001b[33;43mgamma_bar\u001b[39;49m\u001b[33;43m\"\u001b[39;49m\u001b[43m \u001b[49m\u001b[38;5;129;43;01min\u001b[39;49;00m\u001b[43m \u001b[49m\u001b[43mgrid\u001b[49m \u001b[38;5;129;01mand\u001b[39;00m \u001b[33m\"\u001b[39m\u001b[33mgamma_split\u001b[39m\u001b[33m\"\u001b[39m \u001b[38;5;129;01min\u001b[39;00m grid:\n\u001b[32m     78\u001b[39m     gamma_bar_list = grid[\u001b[33m\"\u001b[39m\u001b[33mgamma_bar\u001b[39m\u001b[33m\"\u001b[39m]\n\u001b[32m     79\u001b[39m     gamma_split_list = grid[\u001b[33m\"\u001b[39m\u001b[33mgamma_split\u001b[39m\u001b[33m\"\u001b[39m]\n",
      "\u001b[31mTypeError\u001b[39m: argument of type 'NoneType' is not iterable"
     ]
    }
   ],
   "source": [
    "import os, json\n",
    "\n",
    "GRID_FILE = \"grids_exptA.yaml\"\n",
    "BASE_OUT = \"results/grid_2025_08_15\"   # date-stamp it\n",
    "OUTPUT_GRANULARITY = \"event\"           # Experiment A wants per-event for the money plot\n",
    "SEEDS = list(range(5))                 # match your CLI default\n",
    "\n",
    "grid = load_grid(GRID_FILE)\n",
    "combos = generate_combinations(grid)\n",
    "\n",
    "print(f\"{len(combos)} grid cells\")\n",
    "print(sorted(set(c['accountant'] for c in combos)))\n",
    "\n",
    "# (Optional) dry-run preview\n",
    "for i, p in enumerate(combos[:5]):\n",
    "    print(f\"{i+1:2d}. {create_grid_id(p)} → {p}\")\n",
    "\n",
    "# Make output dirs\n",
    "os.makedirs(os.path.join(BASE_OUT, \"sweep\"), exist_ok=True)\n",
    "\n",
    "# Run the sweep from the notebook (sequentially; or write a tiny pool if you like)\n",
    "all_csv = []\n",
    "for i, params in enumerate(combos):\n",
    "    print(f\"\\n=== Running cell {i+1}/{len(combos)}: {create_grid_id(params)} ===\")\n",
    "    csvs = run_parameter_combination(\n",
    "        params=params,\n",
    "        seeds=SEEDS,\n",
    "        base_out=BASE_OUT,\n",
    "        output_granularity=OUTPUT_GRANULARITY,\n",
    "        parallel=1,           # bump if your runner supports safe parallelism in-notebook\n",
    "    )\n",
    "    all_csv.extend(csvs)\n",
    "\n",
    "# Persist a manifest like the CLI does (handy for analysis notebooks)\n",
    "manifest = { create_grid_id(p): p for p in combos }\n",
    "with open(os.path.join(BASE_OUT, \"sweep\", \"manifest.json\"), \"w\") as f:\n",
    "    json.dump(manifest, f, indent=2)\n",
    "\n",
    "print(\"\\nDone. CSVs:\", len(all_csv))\n"
   ]
  },
  {
   "cell_type": "code",
   "execution_count": null,
   "id": "0f2d5cef",
   "metadata": {},
   "outputs": [],
   "source": []
  }
 ],
 "metadata": {
  "kernelspec": {
   "display_name": ".venv",
   "language": "python",
   "name": "python3"
  },
  "language_info": {
   "codemirror_mode": {
    "name": "ipython",
    "version": 3
   },
   "file_extension": ".py",
   "mimetype": "text/x-python",
   "name": "python",
   "nbconvert_exporter": "python",
   "pygments_lexer": "ipython3",
   "version": "3.11.13"
  }
 },
 "nbformat": 4,
 "nbformat_minor": 5
}
